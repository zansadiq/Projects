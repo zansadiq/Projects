{
 "cells": [
  {
   "cell_type": "markdown",
   "metadata": {},
   "source": [
    "# Regression of Product Prices Using a GBM\n",
    "\n",
    "## By: ZXS107020\n",
    "\n",
    "### Introduction-\n",
    "\n",
    "Gradient Boosted Machines are gaining popularity within the data science community. There are many reasons for this. The most important among these is perhaps the fact that GBM's build decision trees through an iterative process as opposed to randomly. This feature allows the GBM to provide more expressive results than a normal random forest. \n",
    "\n",
    "These methods are most commonly used for classification tasks. The generalized method is well-suited for handling categorical outcomes that are not continuous in nature. However, for our purposes we are going to go ahead and test this methodology on a problem in which the target variable is in fact continuous. Due to the nature of our target variable, we will not be able to rely on traditional methods of model validation such as classification accuracy or the sensitivity/specificity. Instead we will use the RMSE or root mean squared error. This will make our model a little harder to judge because this is a relative measure, but generally speaking- the smaller the RMSE the better the model. \n",
    "\n",
    "In any case, lets get started.  \n",
    "\n",
    "***"
   ]
  },
  {
   "cell_type": "markdown",
   "metadata": {},
   "source": [
    "### Pre-Processing"
   ]
  },
  {
   "cell_type": "code",
   "execution_count": 1,
   "metadata": {},
   "outputs": [],
   "source": [
    "# Import the required libraries\n",
    "import os\n",
    "import zipfile\n",
    "import pandas as pd\n",
    "import numpy as np\n",
    "from sklearn import model_selection\n",
    "from sklearn.feature_extraction.text import CountVectorizer, TfidfVectorizer\n",
    "from sklearn.preprocessing import LabelBinarizer\n",
    "from scipy.sparse import csr_matrix, hstack\n",
    "import lightgbm as lgb\n",
    "from sklearn.metrics import mean_squared_error\n",
    "import matplotlib.pyplot as plt"
   ]
  },
  {
   "cell_type": "code",
   "execution_count": 8,
   "metadata": {},
   "outputs": [],
   "source": [
    "# Set the URL for data and local destination\n",
    "wd = '/Users/zansadiq/Documents/Code/local/Misc'\n",
    "fn = 'mercari.zip'"
   ]
  },
  {
   "cell_type": "code",
   "execution_count": 9,
   "metadata": {},
   "outputs": [],
   "source": [
    "# Change the working directory\n",
    "os.chdir(wd)"
   ]
  },
  {
   "cell_type": "code",
   "execution_count": 10,
   "metadata": {},
   "outputs": [],
   "source": [
    "# Access the Data and Unzip\n",
    "with zipfile.ZipFile(fn, 'r') as zf:\n",
    "    zf.extractall()\n",
    "\n",
    "# Load the training set\n",
    "training = pd.read_csv('train.tsv', sep = '\\t')\n",
    "\n",
    "# Load the testing set\n",
    "testing = pd.read_csv('test.tsv', sep = '\\t')"
   ]
  },
  {
   "cell_type": "code",
   "execution_count": 11,
   "metadata": {},
   "outputs": [
    {
     "data": {
      "text/plain": [
       "train_id                  0\n",
       "name                      0\n",
       "item_condition_id         0\n",
       "category_name          6327\n",
       "brand_name           632682\n",
       "price                     0\n",
       "shipping                  0\n",
       "item_description          4\n",
       "dtype: int64"
      ]
     },
     "execution_count": 11,
     "metadata": {},
     "output_type": "execute_result"
    }
   ],
   "source": [
    "# Check for missing values\n",
    "training.isnull().sum()"
   ]
  },
  {
   "cell_type": "code",
   "execution_count": 12,
   "metadata": {},
   "outputs": [
    {
     "data": {
      "text/plain": [
       "test_id                   0\n",
       "name                      0\n",
       "item_condition_id         0\n",
       "category_name          3058\n",
       "brand_name           295525\n",
       "shipping                  0\n",
       "item_description          0\n",
       "dtype: int64"
      ]
     },
     "execution_count": 12,
     "metadata": {},
     "output_type": "execute_result"
    }
   ],
   "source": [
    "testing.isnull().sum()"
   ]
  },
  {
   "cell_type": "code",
   "execution_count": 13,
   "metadata": {},
   "outputs": [],
   "source": [
    "# Handle nulls\n",
    "training['category_name'].fillna(value = 'missing', inplace = True)\n",
    "training['brand_name'].fillna(value = 'missing', inplace = True)\n",
    "training['item_description'].fillna(value = 'missing', inplace = True)\n",
    "\n",
    "testing['category_name'].fillna(value = 'missing', inplace = True)\n",
    "testing['brand_name'].fillna(value = 'missing', inplace = True)\n",
    "testing['item_description'].fillna(value = 'missing', inplace = True)"
   ]
  },
  {
   "cell_type": "code",
   "execution_count": 14,
   "metadata": {},
   "outputs": [],
   "source": [
    "# Transform categorical variables\n",
    "def to_cat(data, col):\n",
    "    data[col] = data[col].astype('category')\n",
    "    return data\n",
    "\n",
    "cols = ['category_name', 'brand_name', 'item_condition_id']\n",
    "\n",
    "for i in cols:\n",
    "    to_cat(training, i)\n",
    "    to_cat(testing, i)"
   ]
  },
  {
   "cell_type": "code",
   "execution_count": 15,
   "metadata": {},
   "outputs": [],
   "source": [
    "# Drop 0 prices\n",
    "training = training[training.price != 0].reset_index(drop = True)  "
   ]
  },
  {
   "cell_type": "code",
   "execution_count": 16,
   "metadata": {},
   "outputs": [],
   "source": [
    "# Separate dependent variables\n",
    "y_training = training['price']\n",
    "\n",
    "training = training.drop('price', axis = 1)"
   ]
  },
  {
   "cell_type": "markdown",
   "metadata": {},
   "source": [
    "***\n",
    "\n",
    "### Modeling\n",
    "\n",
    "Before we go any further, it is important to note: the testing data in this example is unlabeled. As a result, we would have no way of measuring the accuracy of our price predictions. Instead, what we will do is rely on only the training data. We will divide this information into two sets with a 70/30 split to create a validation set. This will allow us to measure the RMSE and determine how our predictions stack up against the actual prices in the labeled set."
   ]
  },
  {
   "cell_type": "code",
   "execution_count": 17,
   "metadata": {},
   "outputs": [],
   "source": [
    "# Split the training data for validation\n",
    "train_x, val_x, train_y, val_y = model_selection.train_test_split(training, y_training, test_size = .3, random_state = 100)"
   ]
  },
  {
   "cell_type": "code",
   "execution_count": 18,
   "metadata": {},
   "outputs": [],
   "source": [
    "# General settings for GBM model\n",
    "num_hotel = 879\n",
    "num_cat = 1000\n",
    "name_min_df = 10\n",
    "max_ft = 50000"
   ]
  },
  {
   "cell_type": "markdown",
   "metadata": {},
   "source": [
    "#### Count Vectorization: Converting Categorical Variables"
   ]
  },
  {
   "cell_type": "code",
   "execution_count": 19,
   "metadata": {},
   "outputs": [],
   "source": [
    "# Vectorize the products and categories\n",
    "cv = CountVectorizer(min_df = name_min_df)\n",
    "\n",
    "x_train_name = cv.fit_transform(train_x['name'])\n",
    "x_test_name = cv.fit_transform(val_x['name'])\n",
    "\n",
    "cv = CountVectorizer()\n",
    "\n",
    "x_train_cat = cv.fit_transform(train_x['category_name'])\n",
    "x_test_cat = cv.fit_transform(val_x['category_name'])"
   ]
  },
  {
   "cell_type": "markdown",
   "metadata": {},
   "source": [
    "#### TF-IDF: Creating a Measure of Importance for Item Descriptions"
   ]
  },
  {
   "cell_type": "code",
   "execution_count": 20,
   "metadata": {},
   "outputs": [],
   "source": [
    "# TF-IDF\n",
    "tv = TfidfVectorizer(max_features = max_ft, ngram_range = (1, 3), stop_words = 'english')\n",
    "\n",
    "x_train_desc = tv.fit_transform(train_x['item_description'])\n",
    "x_test_desc = tv.fit_transform(val_x['item_description'])"
   ]
  },
  {
   "cell_type": "markdown",
   "metadata": {},
   "source": [
    "***"
   ]
  },
  {
   "cell_type": "code",
   "execution_count": 21,
   "metadata": {},
   "outputs": [],
   "source": [
    "# Binarize labels\n",
    "lb = LabelBinarizer(sparse_output = True)\n",
    "\n",
    "x_train_brand = lb.fit_transform(train_x['brand_name'])\n",
    "x_test_brand = lb.fit_transform(val_x['brand_name'])"
   ]
  },
  {
   "cell_type": "code",
   "execution_count": 22,
   "metadata": {},
   "outputs": [],
   "source": [
    "# Dummy variables for item_condition_id and shipping\n",
    "x_training_dummies = csr_matrix(pd.get_dummies(train_x[['item_condition_id', 'shipping']], sparse = True).values)\n",
    "x_testing_dummies = csr_matrix(pd.get_dummies(val_x[['item_condition_id', 'shipping']], sparse = True).values)"
   ]
  },
  {
   "cell_type": "code",
   "execution_count": 23,
   "metadata": {},
   "outputs": [],
   "source": [
    "# Merge\n",
    "training_merged = hstack((x_training_dummies, x_train_desc, x_train_brand, x_train_cat, x_train_name)).tocsr()\n",
    "testing_merged = hstack((x_testing_dummies, x_test_desc, x_test_brand, x_test_cat, x_test_name)).tocsr()"
   ]
  },
  {
   "cell_type": "code",
   "execution_count": 24,
   "metadata": {},
   "outputs": [],
   "source": [
    "# Remove doc frequencies < 1\n",
    "mask = np.array(np.clip(training_merged.getnnz(axis = 0) - 1, 0, 1), dtype = bool)\n",
    "test_mask = np.array(np.clip(testing_merged.getnnz(axis = 0) - 1, 0, 1), dtype = bool)\n",
    "\n",
    "training_merged = training_merged[:, mask]\n",
    "testing_merged = testing_merged[:, test_mask]"
   ]
  },
  {
   "cell_type": "markdown",
   "metadata": {},
   "source": [
    "***"
   ]
  },
  {
   "cell_type": "code",
   "execution_count": 25,
   "metadata": {},
   "outputs": [],
   "source": [
    "# GBM\n",
    "train_x = lgb.Dataset(training_merged, label = train_y)"
   ]
  },
  {
   "cell_type": "code",
   "execution_count": 26,
   "metadata": {},
   "outputs": [],
   "source": [
    "# Parameters (these can be fine-tuned)\n",
    "params = {'learning_rate': .75, 'application': 'regression', 'max_depth': 3, 'num_leaves': 100, 'verbosity': -1, 'metric': 'RMSE'}"
   ]
  },
  {
   "cell_type": "markdown",
   "metadata": {},
   "source": [
    "***"
   ]
  },
  {
   "cell_type": "markdown",
   "metadata": {},
   "source": [
    "### Results and Visuals\n",
    "\n",
    "Well folks, thats all there is to it. We have successfully preprocessed a dataset of product prices and descriptions and prepared this information for modeling via a \"Gradient Boosted Machine\". Unfortunately, we will not be able to truly judge how accurate our model was because of the unlabelled training data as well as the fact that regression tasks often do not have an associated measure for measuring absolute performance. \n",
    "\n",
    "In any case, we can still get a good idea of how we did by looking at the pricing distributions and comparing these results to the training data."
   ]
  },
  {
   "cell_type": "code",
   "execution_count": 27,
   "metadata": {},
   "outputs": [],
   "source": [
    "# Train model\n",
    "gbm = lgb.train(params, train_set = train_x, num_boost_round = 3200, verbose_eval = 100)"
   ]
  },
  {
   "cell_type": "code",
   "execution_count": 28,
   "metadata": {},
   "outputs": [],
   "source": [
    "# Predictions\n",
    "test_preds = gbm.predict(testing_merged, num_iteration = gbm.best_iteration)"
   ]
  },
  {
   "cell_type": "code",
   "execution_count": 29,
   "metadata": {},
   "outputs": [
    {
     "name": "stdout",
     "output_type": "stream",
     "text": [
      "The RMSE of the GBM Predictions is:  2185.6846719083246\n"
     ]
    }
   ],
   "source": [
    "# Evaluate \n",
    "print('The RMSE of the GBM Predictions is: ', mean_squared_error(val_y, test_preds))"
   ]
  },
  {
   "cell_type": "code",
   "execution_count": 30,
   "metadata": {},
   "outputs": [
    {
     "data": {
      "text/plain": [
       "Text(0.5,1,'Price Distribution')"
      ]
     },
     "execution_count": 30,
     "metadata": {},
     "output_type": "execute_result"
    },
    {
     "data": {
      "image/png": "[encoded data removed]",
      "text/plain": [
       "<matplotlib.figure.Figure at 0x1a2cef5c88>"
      ]
     },
     "metadata": {},
     "output_type": "display_data"
    }
   ],
   "source": [
    "# Visualize training data\n",
    "plt.subplot(1, 2, 1)\n",
    "(train_y).plot.hist(bins = 50, figsize = (12, 6), edgecolor = 'white', range = [0, 250])\n",
    "plt.xlabel('price', fontsize = 12)\n",
    "plt.title('Price Distribution', fontsize = 12)"
   ]
  },
  {
   "cell_type": "code",
   "execution_count": 31,
   "metadata": {},
   "outputs": [
    {
     "data": {
      "image/png": "[encoded data removed]",
      "text/plain": [
       "<matplotlib.figure.Figure at 0x1a1acbec50>"
      ]
     },
     "metadata": {},
     "output_type": "display_data"
    }
   ],
   "source": [
    "# Compare training distribution to test results\n",
    "fig, ax = plt.subplots(figsize = (18, 8))\n",
    "\n",
    "ax.hist(train_y, color = '#8CB4E1', bins = 50, range = [0, 100], label = 'Training Prices')\n",
    "ax.hist(val_y, color = '#007D00', bins = 50, range = [0, 100], label = 'Test Predictions')\n",
    "        \n",
    "plt.xlabel('price', fontsize = 12)\n",
    "plt.ylabel('frequency', fontsize = 12)\n",
    "\n",
    "plt.title('Price Distribution: Training Data and Test Predictions', fontsize = 15)\n",
    "\n",
    "plt.tick_params(labelsize = 12)\n",
    "\n",
    "plt.legend()\n",
    "\n",
    "plt.show()"
   ]
  },
  {
   "cell_type": "markdown",
   "metadata": {},
   "source": [
    "***\n",
    "\n",
    "### Improving Model  \n",
    "\n",
    "Our next task is to see if we cant somehow improve upon the results that we have achieved with our GBM model. We will evaluate the performance of our fine-tuning using the amount by which we can reduce the RMSE of our initial results.  \n",
    "\n",
    "Enter TPOT: \n",
    "\n",
    "A popular new trend in the field of data science is the use of automated machine learning. There are various packages that have been developed for this purpose. The one that we will use here is TPOT. \n",
    "\n",
    "TPOT works by interfacing with `sci-kit learn` by exploring possible \"pipelines\" automatically. \n",
    "\n",
    "![TPOT Framework](https://github.com/EpistasisLab/tpot/blob/master/images/tpot-ml-pipeline.png?raw=true)\n",
    "\n",
    "After the package has performed an exhaustive search of different algorithms and tuning parameters, it then selects the model with the highest performance and generates a file of python code in which it stores the model. \n",
    "\n",
    "A general outline of the procedure is provided below:\n",
    "\n",
    "![TPOT Modeling Process](https://github.com/EpistasisLab/tpot/blob/master/images/tpot-pipeline-example.png?raw=true).\n",
    "\n",
    "***"
   ]
  },
  {
   "cell_type": "markdown",
   "metadata": {},
   "source": [
    "Now lets go ahead and write the code-"
   ]
  },
  {
   "cell_type": "code",
   "execution_count": 34,
   "metadata": {},
   "outputs": [],
   "source": [
    "# Import the required libraries\n",
    "from tpot import TPOTRegressor"
   ]
  },
  {
   "cell_type": "code",
   "execution_count": 35,
   "metadata": {},
   "outputs": [],
   "source": [
    "# Initialize the TPOT model\n",
    "tpot = TPOTRegressor(generations = 5, population_size = 20, verbosity = 2, n_jobs = 4)"
   ]
  },
  {
   "cell_type": "code",
   "execution_count": null,
   "metadata": {},
   "outputs": [],
   "source": [
    "# Convert the data to dense matrices for modeling\n",
    "tpot_train = training_merged.todense()\n",
    "tpot_test = testing_merged.todense()\n",
    "\n",
    "# Convert matrices to arrays\n",
    "tpot_training = tpot_train.A1\n",
    "tpot_testing = tpot_test.A1"
   ]
  },
  {
   "cell_type": "code",
   "execution_count": null,
   "metadata": {},
   "outputs": [],
   "source": [
    "# Fit the model\n",
    "tpot.fit(tpot_training, train_y)"
   ]
  },
  {
   "cell_type": "code",
   "execution_count": null,
   "metadata": {},
   "outputs": [],
   "source": [
    "# Results\n",
    "print(tpot.score(tpot_testing, val_y))"
   ]
  },
  {
   "cell_type": "code",
   "execution_count": null,
   "metadata": {},
   "outputs": [],
   "source": [
    "# Export code\n",
    "tpot.export('tpot_price_regression.py')"
   ]
  },
  {
   "cell_type": "code",
   "execution_count": null,
   "metadata": {},
   "outputs": [],
   "source": []
  }
 ],
 "metadata": {
  "kernelspec": {
   "display_name": "Python 3",
   "language": "python",
   "name": "python3"
  },
  "language_info": {
   "codemirror_mode": {
    "name": "ipython",
    "version": 3
   },
   "file_extension": ".py",
   "mimetype": "text/x-python",
   "name": "python",
   "nbconvert_exporter": "python",
   "pygments_lexer": "ipython3",
   "version": "3.6.4"
  }
 },
 "nbformat": 4,
 "nbformat_minor": 2
}
