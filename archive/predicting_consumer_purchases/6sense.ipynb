{
 "cells": [
  {
   "cell_type": "markdown",
   "metadata": {},
   "source": [
    "# 6sense: Predicting Consumer Purchases\n",
    "\n",
    "## Introduction-\n",
    "\n",
    "The task for this assignment is to predict whether or not customers will make a purchase based on their previous activities. \n",
    "\n",
    "---\n",
    "\n",
    "## Setup-"
   ]
  },
  {
   "cell_type": "code",
   "execution_count": 21,
   "metadata": {},
   "outputs": [],
   "source": [
    "# Load the required libraries\n",
    "import os\n",
    "import csv\n",
    "import pandas as pd\n",
    "from sklearn.cross_validation import train_test_split\n",
    "from sklearn.linear_model import LogisticRegression\n",
    "from sklearn.metrics import accuracy_score\n",
    "from sklearn.metrics import roc_curve, auc\n",
    "import matplotlib.pyplot as plt\n",
    "import numpy as np"
   ]
  },
  {
   "cell_type": "code",
   "execution_count": 22,
   "metadata": {},
   "outputs": [],
   "source": [
    "# Set the working directory\n",
    "os.chdir('/Users/zansadiq/Documents/Work/takehome')"
   ]
  },
  {
   "cell_type": "code",
   "execution_count": 23,
   "metadata": {},
   "outputs": [],
   "source": [
    "# Open the files\n",
    "training = pd.read_csv('training.tsv', sep = '\\t', header = None, names = ('user_id', 'activity_date', 'activity_type'))\n",
    "\n",
    "testing = pd.read_csv('test.tsv', sep = '\\t', header = None, names = ('user_id', 'activity_date', 'activity_type'))"
   ]
  },
  {
   "cell_type": "code",
   "execution_count": 24,
   "metadata": {},
   "outputs": [],
   "source": [
    "# Fix the dates\n",
    "training['activity_date'] = pd.to_datetime(training['activity_date'])\n",
    "\n",
    "testing['activity_date'] = pd.to_datetime(testing['activity_date'])"
   ]
  },
  {
   "cell_type": "code",
   "execution_count": 25,
   "metadata": {},
   "outputs": [],
   "source": [
    "# Convert activities to factor \n",
    "training['activity_type'] = training['activity_type'].astype('category')\n",
    "\n",
    "testing['activity_type'] = testing['activity_type'].astype('category')"
   ]
  },
  {
   "cell_type": "markdown",
   "metadata": {},
   "source": [
    "---\n",
    "\n",
    "## Feature Engineering-\n",
    "\n",
    "Before we can feed our data into a model, we must first create some new features and modify the existing variables so that they are all in a suitable format for the algorithms."
   ]
  },
  {
   "cell_type": "code",
   "execution_count": 26,
   "metadata": {},
   "outputs": [],
   "source": [
    "# Create dummy variables for activity types\n",
    "dummies = pd.get_dummies(training, columns = ['activity_type'], drop_first = True)\n",
    "\n",
    "test_dummies = pd.get_dummies(testing, columns = ['activity_type'], drop_first = True)"
   ]
  },
  {
   "cell_type": "code",
   "execution_count": 27,
   "metadata": {},
   "outputs": [],
   "source": [
    "# Fill missing columns in test data\n",
    "test_dummies = test_dummies.assign(activity_type_EmailClickThrough = 0, activity_type_Purchase = 0)"
   ]
  },
  {
   "cell_type": "code",
   "execution_count": 28,
   "metadata": {},
   "outputs": [],
   "source": [
    "# List all of the column headers\n",
    "dat_vars = dummies.columns.values.tolist()\n",
    "test_vars = test_dummies.columns.values.tolist() \n",
    "\n",
    "# Select the dependent variable\n",
    "y = ['activity_type_Purchase']\n",
    "\n",
    "# Select independent variables\n",
    "x = [i for i in dat_vars if i not in ['user_id', 'activity_type_Purchase', 'activity_date']]\n",
    "x_test = [i for i in test_vars if i not in ['user_id', 'activity_type_Purchase', 'activity_date']]\n",
    "\n",
    "# Fill the values\n",
    "x = dummies[x]\n",
    "y = dummies['activity_type_Purchase']\n",
    "\n",
    "x_test = test_dummies[x_test]\n",
    "y_test = test_dummies['activity_type_Purchase']\n",
    "\n",
    "# Split the training data for training and validation\n",
    "x_train, x_val, y_train, y_val = train_test_split(x, y, test_size = 0.3, random_state = 100)"
   ]
  },
  {
   "cell_type": "markdown",
   "metadata": {},
   "source": [
    "---\n",
    "\n",
    "## Modeling-\n",
    "\n",
    "Now that we have modified our data, we can go ahead and feed it into a model. Lets perform a logistic regression. \n",
    "\n",
    "### Logistic Regression:"
   ]
  },
  {
   "cell_type": "code",
   "execution_count": 29,
   "metadata": {},
   "outputs": [
    {
     "name": "stdout",
     "output_type": "stream",
     "text": [
      "0.978873058083334\n"
     ]
    }
   ],
   "source": [
    "# Logistic Regression\n",
    "log_reg = LogisticRegression()\n",
    "\n",
    "log_reg.fit(x_train, y_train)\n",
    "\n",
    "# Predictions\n",
    "train_preds = log_reg.predict(x_train)\n",
    "val_preds = log_reg.predict(x_val)\n",
    "test_preds = log_reg.predict(x_test)\n",
    "\n",
    "# Print results\n",
    "print(accuracy_score(y_val, log_reg.predict(x_val)))"
   ]
  },
  {
   "cell_type": "markdown",
   "metadata": {},
   "source": [
    "Our model achieved a ~98% accuracy on predicting purchases for the validation set. This is pretty good. \n",
    "\n",
    "Logistic regression assigns class labels based on the predicted probability, we will enhance our overall model by considering these probabilities in addition the actual outcome."
   ]
  },
  {
   "cell_type": "code",
   "execution_count": 30,
   "metadata": {},
   "outputs": [],
   "source": [
    "# Examine the probabilities\n",
    "train_probs = log_reg.predict_proba(x_train)\n",
    "val_probs = log_reg.predict_proba(x_val)\n",
    "test_probs = log_reg.predict_proba(x_test)"
   ]
  },
  {
   "cell_type": "code",
   "execution_count": 31,
   "metadata": {},
   "outputs": [
    {
     "data": {
      "image/png": "[encoded data removed]",
      "text/plain": [
       "<matplotlib.figure.Figure at 0x11937bf98>"
      ]
     },
     "metadata": {},
     "output_type": "display_data"
    }
   ],
   "source": [
    "# ROC Curve\n",
    "fpr, tpr, _ = roc_curve(y_train, train_preds)\n",
    "roc_auc= auc(fpr, tpr)\n",
    "\n",
    "# Plot ROC\n",
    "plt.figure()\n",
    "plt.plot(fpr, tpr, color = 'darkorange', label = 'ROC Curve (area = %0.2f)' % roc_auc)\n",
    "plt.plot([0, 1], [0, 1], color='navy', linestyle = '--')\n",
    "plt.xlim([0.0, 1.0])\n",
    "plt.ylim([0.0, 1.05])\n",
    "plt.xlabel('False Positive Rate')\n",
    "plt.ylabel('True Positive Rate')\n",
    "plt.title('ROC: Purchase')\n",
    "plt.legend(loc=\"lower right\")\n",
    "plt.show()"
   ]
  },
  {
   "cell_type": "markdown",
   "metadata": {},
   "source": [
    "From the ROC curve, what we can see is that it is not really insightful to try and select a custom probability threshold. We will leave the default value."
   ]
  },
  {
   "cell_type": "code",
   "execution_count": 32,
   "metadata": {},
   "outputs": [],
   "source": [
    "# Combine probabilities with test set\n",
    "test_dummies['activity_type_Purchase'] = test_preds\n",
    "test_dummies['prob_no_purchase'] = test_probs[:,0]\n",
    "test_dummies['prob_purchase'] = test_probs[:,1]"
   ]
  },
  {
   "cell_type": "markdown",
   "metadata": {},
   "source": [
    "---\n",
    "\n",
    "## Conclusion-"
   ]
  },
  {
   "cell_type": "code",
   "execution_count": 33,
   "metadata": {},
   "outputs": [],
   "source": [
    "# Sort probabilities and select top 1000\n",
    "sort = test_dummies.sort_values(['prob_purchase'], ascending = [False])\n",
    "\n",
    "out = sort.head(n = 1000)"
   ]
  },
  {
   "cell_type": "markdown",
   "metadata": {},
   "source": [
    "We have selected the top 1000 users from the test set that are most likely to make a purchase. However, the more important question is- what features or characteristics went into developing this prediction? \n",
    "\n",
    "In order to find out, we shall have to look at the importance of the variables that went into the Logistic Regression model. Lets go ahead and take a look at the top 3 features."
   ]
  },
  {
   "cell_type": "code",
   "execution_count": 34,
   "metadata": {},
   "outputs": [
    {
     "name": "stdout",
     "output_type": "stream",
     "text": [
      "Index(['activity_type_PageView', 'activity_type_EmailOpen',\n",
      "       'activity_type_FormSubmit', 'user_id'],\n",
      "      dtype='object')\n"
     ]
    }
   ],
   "source": [
    "# Variable importance\n",
    "coefs = log_reg.coef_[0]\n",
    "\n",
    "# Select top variables\n",
    "top_three = np.argpartition(coefs, -4)[-4:]\n",
    "\n",
    "# Output\n",
    "print(test_dummies.columns[top_three])"
   ]
  },
  {
   "cell_type": "markdown",
   "metadata": {},
   "source": [
    "From our output, we can see that the top three activities indicating that a purchase is likely are: page views, reading emails, and submitting forms. \n",
    "\n",
    "Finally, we can store our predictions in the form of a `.csv` file for later reference."
   ]
  },
  {
   "cell_type": "code",
   "execution_count": 35,
   "metadata": {},
   "outputs": [],
   "source": [
    "# Write results to csv\n",
    "out.to_csv('purchase_predictions.csv', sep='\\t')"
   ]
  },
  {
   "cell_type": "code",
   "execution_count": null,
   "metadata": {},
   "outputs": [],
   "source": []
  }
 ],
 "metadata": {
  "kernelspec": {
   "display_name": "Python 3",
   "language": "python",
   "name": "python3"
  },
  "language_info": {
   "codemirror_mode": {
    "name": "ipython",
    "version": 3
   },
   "file_extension": ".py",
   "mimetype": "text/x-python",
   "name": "python",
   "nbconvert_exporter": "python",
   "pygments_lexer": "ipython3",
   "version": "3.6.4"
  }
 },
 "nbformat": 4,
 "nbformat_minor": 2
}
