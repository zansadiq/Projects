{
 "cells": [
  {
   "cell_type": "markdown",
   "metadata": {},
   "source": [
    "# Creating a Python Dashboard\n",
    "\n",
    "## By: ZXS107020\n",
    "\n",
    "### Introduction:\n",
    "\n",
    "Data science is the hot new topic in the information technology industry. We live in the age of data and with its exponential expansion comes the need for people who are equipped to interpret all of the information being collected. \n",
    "\n",
    "One important component of the data scientist's job that often gets overlooked is the background exploration and analysis that goes into understanding the data. This is the foundation of any data science experiment, and without it- the results an individual could come up with for a given set of data would most likely be useless. \n",
    "\n",
    "An important new tool that is becoming popular in the practition of this important step in any data science project is the rise of the dashboard. Dashboards are convenient ways to collect and clean your information and then present it in a neat, concise form using pictures and graphs. After all, as the saying goes, \"a picture is worth 1,000 words.\""
   ]
  },
  {
   "cell_type": "markdown",
   "metadata": {},
   "source": [
    "### Getting Started\n",
    "\n",
    "In order to create our dashbooard, we will be using the `dash` and `plotly` packages. Our input will be a .csv file containing OHLC data for various cryptocurrencies over time. For more instructions on how-to install the packages please see this [link](https://dash.plot.ly/installation). "
   ]
  },
  {
   "cell_type": "code",
   "execution_count": 1,
   "metadata": {},
   "outputs": [],
   "source": [
    "# Import the required libraries\n",
    "import os\n",
    "import pandas as pd\n",
    "import dash\n",
    "import dash_html_components as html\n",
    "from dash.dependencies import Input, Output\n",
    "import dash_core_components as dcc\n",
    "import plotly.graph_objs as go"
   ]
  },
  {
   "cell_type": "markdown",
   "metadata": {},
   "source": [
    "Now that we have installed and imported all of our required libraries, lets go ahead and take a moment to go over our procedure. The pre-requisite for moving forward is having a basic understanding of the information contained in our data. This will allow us to structure our application appropriately. \n",
    "\n",
    "The modeling phase of the dashboard can be broken down further into three different components:  \n",
    "1) The user interface (Model)  \n",
    "2) The data visualizations (View)  \n",
    "3) The interactions between the user inputs and graphical outputs (Controller)  "
   ]
  },
  {
   "cell_type": "markdown",
   "metadata": {},
   "source": [
    "#### The Template:\n",
    "\n",
    "This is the general structure of the `dash` dashboard that can be further customized for any use case.  "
   ]
  },
  {
   "cell_type": "code",
   "execution_count": null,
   "metadata": {},
   "outputs": [],
   "source": [
    "###########################\n",
    "# Data Manipulation / Model\n",
    "###########################\n",
    "\n",
    "def fetch_data(q):\n",
    "    df = pd.read_sql(\n",
    "        sql=q,\n",
    "        con=conn\n",
    "    )\n",
    "    return df\n",
    "\n",
    "#########################\n",
    "# Dashboard Layout / View\n",
    "#########################\n",
    "\n",
    "# Set up Dashboard and create layout\n",
    "app = dash.Dash()\n",
    "app.css.append_css({\n",
    "    \"external_url\": \"https://codepen.io/chriddyp/pen/bWLwgP.css\"\n",
    "})\n",
    "\n",
    "app.layout = html.Div([\n",
    "\n",
    "    # Page Header\n",
    "    html.Div([\n",
    "        html.H1('Project Header')\n",
    "    ]),\n",
    "\n",
    "])\n",
    "\n",
    "#############################################\n",
    "# Interaction Between Components / Controller\n",
    "#############################################\n",
    "\n",
    "# Template\n",
    "@app.callback(\n",
    "    Output(component_id='selector-id', component_property='figure'),\n",
    "    [\n",
    "        Input(component_id='input-selector-id', component_property='value')\n",
    "    ]\n",
    ")\n",
    "def ctrl_func(input_selection):\n",
    "    return None\n",
    "\n",
    "\n",
    "# start Flask server\n",
    "if __name__ == '__main__':\n",
    "    app.run_server(\n",
    "        debug=True,\n",
    "        host='0.0.0.0',\n",
    "        port=8050\n",
    "    )"
   ]
  },
  {
   "cell_type": "markdown",
   "metadata": {},
   "source": [
    "#### The Model:\n",
    "\n",
    "Once we have developed an understanding of our data, we must develop some sort of layout. We must chooses the variables and graphics that we wish to depict and decide how each of these components will fit together to form a larger product. This can be done mentally or even by hand using a pen and paper. Traditionally, the user interface would be designed as a web-application using CSS and HTML and other programming languages. However, the Python packages that we will be using will allow us to write all of the required code primarily in Python. \n",
    "\n",
    "Before we can do that, however, we will need to collect some information from the user to get started:  "
   ]
  },
  {
   "cell_type": "code",
   "execution_count": null,
   "metadata": {},
   "outputs": [],
   "source": [
    "#######################################################################################################################\n",
    "############################################### Collect user-inputs ###################################################\n",
    "#######################################################################################################################\n",
    "\n",
    "wd = input('Enter the path of the desired working directory: ')\n",
    "fn = input('Enter the name of the input data file: ')\n",
    "\n",
    "# Change the settings\n",
    "os.chdir(wd)\n",
    "\n",
    "# Load the data\n",
    "data = pd.read_csv(fn)"
   ]
  },
  {
   "cell_type": "code",
   "execution_count": null,
   "metadata": {},
   "outputs": [],
   "source": [
    "#######################################################################################################################\n",
    "################################################## Pre-Processing #####################################################\n",
    "#######################################################################################################################\n",
    "\n",
    "# Fix the casing\n",
    "data.columns = map(str.lower, data.columns)\n",
    "data.columns = data.columns.str.replace(\" \", \"_\")\n",
    "\n",
    "# Convert the date\n",
    "data['date'] = pd.to_datetime(data['date'])\n",
    "data['date'].apply(lambda x: x.strftime('%m/%d/%Y'))\n",
    "\n",
    "# Filter out currencies with less than two data points\n",
    "data = data.groupby('currency').filter(lambda x: len(x) > 3)"
   ]
  },
  {
   "cell_type": "code",
   "execution_count": null,
   "metadata": {},
   "outputs": [],
   "source": [
    "#######################################################################################################################\n",
    "################################################### Interface #########################################################\n",
    "#######################################################################################################################\n",
    "\n",
    "# Function to select results of user input\n",
    "def load_table(value):\n",
    "    df = data[data['currency'] == value]\n",
    "    \n",
    "    return df\n",
    "\n",
    "# Function to obtain results of user input\n",
    "def gen_tab(df, max_rows = 10):\n",
    "    return html.Table([html.Tr([html.Th(col) for col in df.columns])] +\n",
    "                      [html.Tr([html.Td(df.iloc[i][col]) for col in df.columns]) for i in range(min(len(df), max_rows))])\n",
    "\n",
    "# Initialize Dashboard\n",
    "app = dash.Dash()\n",
    "\n",
    "# Format the layout\n",
    "app.layout = html.Div([\n",
    "        # Page header\n",
    "        html.Div([html.H1('Cryptocurrency Price Viewer:')]),\n",
    "        \n",
    "        # Dropdown menu\n",
    "        dcc.Dropdown(id = 'dropdown',\n",
    "                     options = [{'label': i, 'value': i} for i in data['currency'].unique()],\n",
    "                     value = 'a'),\n",
    "        \n",
    "        # Results table\n",
    "        html.Div(id = 'match-results'),\n",
    "\n",
    "        # Price graph\n",
    "        html.Div([dcc.Graph(id = 'graph')]),\n",
    "        \n",
    "        # User input\n",
    "        html.Div(id = 'user-input', style = {'display': 'none'})])\n",
    "\n",
    "# Callback to store user value    \n",
    "@app.callback(\n",
    "        Output(component_id = 'match-results', component_property = 'children'),\n",
    "        [Input(component_id = 'dropdown', component_property = 'value')])\n",
    "\n",
    "# Function to populate table based on user value\n",
    "def disp_tab(value):\n",
    "    dff = load_table(value)\n",
    "    \n",
    "    return gen_tab(dff)"
   ]
  },
  {
   "cell_type": "code",
   "execution_count": null,
   "metadata": {},
   "outputs": [],
   "source": [
    "#######################################################################################################################\n",
    "####################################################### Run ###########################################################\n",
    "#######################################################################################################################\n",
    "\n",
    "# Start the instance\n",
    "if __name__ == '__main__':\n",
    "    app.run_server(\n",
    "        debug = False,\n",
    "        host = '0.0.0.0',\n",
    "        port = 8050)  "
   ]
  }
 ],
 "metadata": {
  "kernelspec": {
   "display_name": "Python 3",
   "language": "python",
   "name": "python3"
  },
  "language_info": {
   "codemirror_mode": {
    "name": "ipython",
    "version": 3
   },
   "file_extension": ".py",
   "mimetype": "text/x-python",
   "name": "python",
   "nbconvert_exporter": "python",
   "pygments_lexer": "ipython3",
   "version": "3.6.4"
  }
 },
 "nbformat": 4,
 "nbformat_minor": 2
}
