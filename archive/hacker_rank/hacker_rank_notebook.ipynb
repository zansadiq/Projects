{
 "cells": [
  {
   "cell_type": "markdown",
   "metadata": {},
   "source": [
    "# Hacker Rank Code Challenges"
   ]
  },
  {
   "cell_type": "markdown",
   "metadata": {},
   "source": [
    "## Introduction:\n",
    "\n",
    "The code challenges provided on Hacker Rank can be quite difficult, especially if one is new to programming and unfamiliar with the general syntax of Python. In this notebook, we will work through several different exercises on the website with the hope of learning more about whats going on behind-the-scenes. Along the way, we will also provide tiny little lessons on the finer details of python coding that learned through dealing with the auto-checker as well. "
   ]
  },
  {
   "cell_type": "markdown",
   "metadata": {},
   "source": [
    "### Challenges-"
   ]
  },
  {
   "cell_type": "markdown",
   "metadata": {},
   "source": [
    "#### 1) Python If-Else:\n",
    "\n",
    "This task involves using an if-else statement to determine whether or not a number is \"wierd\". The rules are that if the number is odd, it is wierd. Moreover, if the number is even but within the range of 6-20 then it is also \"wierd\".\n",
    "\n",
    "#### Code-"
   ]
  },
  {
   "cell_type": "code",
   "execution_count": null,
   "metadata": {},
   "outputs": [],
   "source": [
    "def num_checker(n):\n",
    "    \n",
    "    # Check if the number is even\n",
    "    remainder = n % 2\n",
    "    \n",
    "    # Check to see if the number is in \"weird\" range\n",
    "    wierd = range(6, 21)\n",
    "    \n",
    "    if remainder != 0:\n",
    "        print(\"Weird\")\n",
    "    elif remainder == 0 and n in wierd: # Note- here we must use \"and\" instead of &\n",
    "        print(\"Weird\")\n",
    "    else:\n",
    "        print(\"Not Weird\")\n",
    "        \n",
    "num_checker(20)"
   ]
  },
  {
   "cell_type": "markdown",
   "metadata": {},
   "source": [
    "#### 2) Arithmetic Operators:\n",
    "\n",
    "This task involves reading input from `STDIN` and creating a 3 line output with: the sum of the inputs, the difference of the inputs, and finally- their product.\n",
    "\n",
    "*Note- in Python, new lines are automatically inserted at the end of each print statement. This is important to get the outputs to match the expected values for the code-checker.\n",
    "\n",
    "#### Code-"
   ]
  },
  {
   "cell_type": "code",
   "execution_count": null,
   "metadata": {},
   "outputs": [],
   "source": [
    "def outputs(a, b):\n",
    "    \n",
    "    # Sum the inputs\n",
    "    num_sum = a + b\n",
    "    \n",
    "    # Find their difference\n",
    "    num_diff = a - b\n",
    "    \n",
    "    # Find the product\n",
    "    num_prod = a * b\n",
    "    \n",
    "    # Results\n",
    "    print(num_sum)\n",
    "    print(num_diff)\n",
    "    print(num_prod) \n",
    "\n",
    "outputs(4, 5)"
   ]
  },
  {
   "cell_type": "markdown",
   "metadata": {},
   "source": [
    "#### 3) Division:\n",
    "\n",
    "In this task, we are asked to produce two outputs: the results of an integer division as well as those of a float division. \n",
    "\n",
    "What is the difference? Well, an integer division will only produce a whole number as a result, whereas float division will give us the exact value. For example, if given 4/3- the integer result will be 1 whereas the float result will be 1.333.\n",
    "\n",
    "#### Code-"
   ]
  },
  {
   "cell_type": "code",
   "execution_count": null,
   "metadata": {},
   "outputs": [],
   "source": [
    "def int_div(a, b):\n",
    "    \n",
    "    # Note- the variable must be defined before the arithmetic operation or else python will throw a syntax error\n",
    "    \n",
    "    # Integer division\n",
    "    int_out = a // b\n",
    "    \n",
    "    # Float division\n",
    "    float_out = a / b\n",
    "    \n",
    "    # Results\n",
    "    print(int_out)\n",
    "    print(float_out)\n",
    "    \n",
    "int_div(10, 3)"
   ]
  },
  {
   "cell_type": "markdown",
   "metadata": {},
   "source": [
    "#### 4) Loops:\n",
    "\n",
    "Here, the assignment is to iterate through a range of numbers. For a given input, we must iterate through values in the range of 0 - number and print the square product of each one.\n",
    "\n",
    "#### Code-"
   ]
  },
  {
   "cell_type": "code",
   "execution_count": null,
   "metadata": {},
   "outputs": [],
   "source": [
    "def squared(n):\n",
    "    \n",
    "    # Create an empty list to store results\n",
    "    out = list()\n",
    "    \n",
    "    # Iterate through the range of n, exclusive\n",
    "    for i in range(n):\n",
    "        res = i ** 2\n",
    "        \n",
    "        out.append(res)\n",
    "    \n",
    "    # Print correctly formatted results\n",
    "    for x in out:\n",
    "        print(x)\n",
    "        \n",
    "squared(10)"
   ]
  },
  {
   "cell_type": "code",
   "execution_count": null,
   "metadata": {},
   "outputs": [],
   "source": []
  }
 ],
 "metadata": {
  "kernelspec": {
   "display_name": "Python 3",
   "language": "python",
   "name": "python3"
  },
  "language_info": {
   "codemirror_mode": {
    "name": "ipython",
    "version": 3
   },
   "file_extension": ".py",
   "mimetype": "text/x-python",
   "name": "python",
   "nbconvert_exporter": "python",
   "pygments_lexer": "ipython3",
   "version": "3.6.4"
  }
 },
 "nbformat": 4,
 "nbformat_minor": 2
}
