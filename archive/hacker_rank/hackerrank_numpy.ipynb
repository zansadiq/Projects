{
 "cells": [
  {
   "cell_type": "markdown",
   "metadata": {},
   "source": [
    "# Hacker Rank Code Challenges: Numpy"
   ]
  },
  {
   "cell_type": "markdown",
   "metadata": {},
   "source": [
    "## Introduction: \n",
    "\n",
    "Numpy is a popular statistical package in Python that is often used by data scientists for manipulating and operating upon data sets. Hacker Rank provides a series of challenges using numpy that we will attempt to solve here."
   ]
  },
  {
   "cell_type": "code",
   "execution_count": 3,
   "metadata": {},
   "outputs": [],
   "source": [
    "# Import library\n",
    "import numpy as np"
   ]
  },
  {
   "cell_type": "markdown",
   "metadata": {},
   "source": [
    "### Challenges- "
   ]
  },
  {
   "cell_type": "markdown",
   "metadata": {},
   "source": [
    "#### 1) \"Eye and Identity\":\n",
    "\n",
    "The task is to print an array of size X with its main diagonal elements as 1's and 0's everywhere else.\n",
    "\n",
    "*Note- in Hacker Rank, there is a bug; so the output must be fixed to match the expected values\n",
    "\n",
    "#### Code- "
   ]
  },
  {
   "cell_type": "code",
   "execution_count": 4,
   "metadata": {},
   "outputs": [
    {
     "name": "stdout",
     "output_type": "stream",
     "text": [
      "[[1. 0. 0.]\n",
      " [0. 1. 0.]\n",
      " [0. 0. 1.]]\n"
     ]
    }
   ],
   "source": [
    "# Interpret the inputs\n",
    "a, b = map(int, input().split())\n",
    "\n",
    "# Create the array\n",
    "eye = numpy.eye(a, b, k = 0)\n",
    "\n",
    "# Fix values to match bug\n",
    "out = str(eye).replace('0', ' 0').replace('1', ' 1')\n",
    "\n",
    "print(out)"
   ]
  },
  {
   "cell_type": "markdown",
   "metadata": {},
   "source": [
    "#### 2) \"Array Mathematics\":\n",
    "\n",
    "Given arrays of various dimensions, our task here is to perform the following operations:\n",
    "\n",
    "* Add\n",
    "* Subtract\n",
    "* Multiply\n",
    "* Divide\n",
    "* Mod (%)\n",
    "* Power\n",
    "\n",
    "*Note- we are asked to use // for division in Python 3\n",
    "\n",
    "#### Code- "
   ]
  },
  {
   "cell_type": "code",
   "execution_count": null,
   "metadata": {},
   "outputs": [],
   "source": [
    "# Read user input\n",
    "n, m = map(int, input().split())\n",
    "a, b = (np.array([input().split() for _ in range(n)], dtype=int) for _ in range(2))\n",
    "\n",
    "# Results\n",
    "print(a+b, a-b, a*b, a//b, a%b, a**b, sep='\\n')"
   ]
  },
  {
   "cell_type": "code",
   "execution_count": null,
   "metadata": {},
   "outputs": [],
   "source": []
  }
 ],
 "metadata": {
  "kernelspec": {
   "display_name": "Python 3",
   "language": "python",
   "name": "python3"
  },
  "language_info": {
   "codemirror_mode": {
    "name": "ipython",
    "version": 3
   },
   "file_extension": ".py",
   "mimetype": "text/x-python",
   "name": "python",
   "nbconvert_exporter": "python",
   "pygments_lexer": "ipython3",
   "version": "3.6.4"
  }
 },
 "nbformat": 4,
 "nbformat_minor": 2
}
